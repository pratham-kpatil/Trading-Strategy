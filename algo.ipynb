{
 "cells": [
  {
   "cell_type": "code",
   "execution_count": 1,
   "metadata": {},
   "outputs": [],
   "source": [
    "import json\n",
    "import numpy as np\n",
    "import pandas as pd\n",
    "from datetime import datetime\n",
    "import matplotlib.pyplot as plt\n",
    "%matplotlib inline\n",
    "\n",
    "from alpha_vantage.timeseries import TimeSeries"
   ]
  },
  {
   "cell_type": "code",
   "execution_count": 2,
   "metadata": {},
   "outputs": [],
   "source": [
    "class ScriptData():\n",
    "    \"\"\" \n",
    "    Class implements methods to load data, process data \n",
    "    and convert into DataFrame.\n",
    "    \"\"\"\n",
    "    def __init__(self):\n",
    "        \"\"\" \n",
    "        Constructor to load api key and \n",
    "        create a object to load script data.\n",
    "        \"\"\"\n",
    "\n",
    "        self.data = dict()\n",
    "        self.api_key = \"234IJADSE4UWFFQW\"\n",
    "        self.columns = [\"timestamp\", \"open\", \"high\", \"low\", \"close\", \"volume\"]\n",
    "        self.ts = TimeSeries(key=self.api_key)\n",
    "        \n",
    "    def fetch_intraday_data(self, script):\n",
    "        \"\"\" \n",
    "        Load intraday data from script \n",
    "        Args: \n",
    "            script: script name(str)\n",
    "\n",
    "        Returns: data dictionary\n",
    "        \"\"\"\n",
    "\n",
    "        self.data[script], _ = self.ts.get_intraday(script)\n",
    "        return self.data[script]\n",
    "\n",
    "    def convert_intraday_data(self, script):\n",
    "        \"\"\"\n",
    "        Convert data dictionary into DataFrame.\n",
    "        Args: \n",
    "            script: script name(str) \n",
    "\n",
    "        Returns: DataFrame\n",
    "        \"\"\"\n",
    "\n",
    "        if script not in self.data.keys():\n",
    "            self.fetch_intraday_data(script)\n",
    "\n",
    "        if type(self.data[script]) != dict:\n",
    "            return self.data[script] \n",
    "        \n",
    "        ts_format = \"%Y-%m-%d %H:%M:%S\"\n",
    "        data_entries = [[datetime.strptime(key, ts_format)] + list(value.values()) \n",
    "                    for key, value in self.data[script].items()]\n",
    "        \n",
    "        self.data[script] = pd.DataFrame(data_entries, columns=self.columns)\n",
    "        self.data[script] = self.data[script].sort_values('timestamp', ignore_index=True)\n",
    "        self.data[script]['close'] = self.data[script]['close'].apply(lambda x : float(x))\n",
    "        return self.data[script]\n",
    "\n",
    "    def __getitem__(self, script):\n",
    "        \"\"\"\n",
    "        Get the DataFrame for a script.\n",
    "        Args: \n",
    "            script: script name(str) \n",
    "        \n",
    "        Returns: DataFrame\n",
    "        \"\"\"\n",
    "\n",
    "        return self.data[script]\n",
    "    \n",
    "    def __setitem__(self, script, data):\n",
    "        \"\"\"\n",
    "        Set data for a script.\n",
    "        Args: \n",
    "            data = dict or DataFrame\n",
    "            script: script name(str) \n",
    "        \n",
    "        Returns: None\n",
    "        \"\"\"\n",
    "\n",
    "        self.data[script] = data\n",
    "    \n",
    "    def __contains__(self, script):\n",
    "        \"\"\"\n",
    "        Check if data exits for a script.\n",
    "        Args: \n",
    "            script: script name(str) \n",
    "        \n",
    "        Returns: DataFrame\n",
    "        \"\"\"\n",
    "\n",
    "        return script in self.data.keys()"
   ]
  },
  {
   "cell_type": "code",
   "execution_count": 3,
   "metadata": {},
   "outputs": [],
   "source": [
    "def indicator1(df, timeperoid=5):\n",
    "        \"\"\" \n",
    "        Calcualte SMA for a given timeperiod on close data.\n",
    "        Args: \n",
    "            df : DataFrame\n",
    "            timeperiod: window size to calulcate SMA (int)\n",
    "        \n",
    "        Returns: DataFrame\n",
    "        \"\"\"\n",
    "\n",
    "        df['indicator'] = df['close'].rolling(timeperoid, min_periods=timeperoid).mean()\n",
    "        df = df[['timestamp', 'indicator']]\n",
    "        return df"
   ]
  },
  {
   "cell_type": "code",
   "execution_count": 4,
   "metadata": {},
   "outputs": [
    {
     "data": {
      "text/html": [
       "<div>\n",
       "<style scoped>\n",
       "    .dataframe tbody tr th:only-of-type {\n",
       "        vertical-align: middle;\n",
       "    }\n",
       "\n",
       "    .dataframe tbody tr th {\n",
       "        vertical-align: top;\n",
       "    }\n",
       "\n",
       "    .dataframe thead th {\n",
       "        text-align: right;\n",
       "    }\n",
       "</style>\n",
       "<table border=\"1\" class=\"dataframe\">\n",
       "  <thead>\n",
       "    <tr style=\"text-align: right;\">\n",
       "      <th></th>\n",
       "      <th>timestamp</th>\n",
       "      <th>open</th>\n",
       "      <th>high</th>\n",
       "      <th>low</th>\n",
       "      <th>close</th>\n",
       "      <th>volume</th>\n",
       "    </tr>\n",
       "  </thead>\n",
       "  <tbody>\n",
       "    <tr>\n",
       "      <th>0</th>\n",
       "      <td>2023-02-16 11:15:00</td>\n",
       "      <td>97.5500</td>\n",
       "      <td>97.6800</td>\n",
       "      <td>97.0300</td>\n",
       "      <td>97.19</td>\n",
       "      <td>1609968</td>\n",
       "    </tr>\n",
       "    <tr>\n",
       "      <th>1</th>\n",
       "      <td>2023-02-16 11:30:00</td>\n",
       "      <td>97.1900</td>\n",
       "      <td>97.2000</td>\n",
       "      <td>96.6900</td>\n",
       "      <td>96.81</td>\n",
       "      <td>1498373</td>\n",
       "    </tr>\n",
       "    <tr>\n",
       "      <th>2</th>\n",
       "      <td>2023-02-16 11:45:00</td>\n",
       "      <td>96.8200</td>\n",
       "      <td>96.9700</td>\n",
       "      <td>96.5300</td>\n",
       "      <td>96.83</td>\n",
       "      <td>1200905</td>\n",
       "    </tr>\n",
       "    <tr>\n",
       "      <th>3</th>\n",
       "      <td>2023-02-16 12:00:00</td>\n",
       "      <td>96.8300</td>\n",
       "      <td>97.0900</td>\n",
       "      <td>96.8150</td>\n",
       "      <td>96.95</td>\n",
       "      <td>714856</td>\n",
       "    </tr>\n",
       "    <tr>\n",
       "      <th>4</th>\n",
       "      <td>2023-02-16 12:15:00</td>\n",
       "      <td>96.9450</td>\n",
       "      <td>96.9900</td>\n",
       "      <td>96.5300</td>\n",
       "      <td>96.88</td>\n",
       "      <td>900381</td>\n",
       "    </tr>\n",
       "    <tr>\n",
       "      <th>...</th>\n",
       "      <td>...</td>\n",
       "      <td>...</td>\n",
       "      <td>...</td>\n",
       "      <td>...</td>\n",
       "      <td>...</td>\n",
       "      <td>...</td>\n",
       "    </tr>\n",
       "    <tr>\n",
       "      <th>95</th>\n",
       "      <td>2023-02-17 19:00:00</td>\n",
       "      <td>94.2500</td>\n",
       "      <td>94.2900</td>\n",
       "      <td>94.2500</td>\n",
       "      <td>94.29</td>\n",
       "      <td>1887</td>\n",
       "    </tr>\n",
       "    <tr>\n",
       "      <th>96</th>\n",
       "      <td>2023-02-17 19:15:00</td>\n",
       "      <td>94.2900</td>\n",
       "      <td>94.3200</td>\n",
       "      <td>94.2700</td>\n",
       "      <td>94.27</td>\n",
       "      <td>3252</td>\n",
       "    </tr>\n",
       "    <tr>\n",
       "      <th>97</th>\n",
       "      <td>2023-02-17 19:30:00</td>\n",
       "      <td>94.2600</td>\n",
       "      <td>94.3100</td>\n",
       "      <td>94.2300</td>\n",
       "      <td>94.26</td>\n",
       "      <td>5439</td>\n",
       "    </tr>\n",
       "    <tr>\n",
       "      <th>98</th>\n",
       "      <td>2023-02-17 19:45:00</td>\n",
       "      <td>94.3200</td>\n",
       "      <td>94.3200</td>\n",
       "      <td>94.2300</td>\n",
       "      <td>94.26</td>\n",
       "      <td>1592</td>\n",
       "    </tr>\n",
       "    <tr>\n",
       "      <th>99</th>\n",
       "      <td>2023-02-17 20:00:00</td>\n",
       "      <td>94.2900</td>\n",
       "      <td>94.2900</td>\n",
       "      <td>94.2500</td>\n",
       "      <td>94.27</td>\n",
       "      <td>10570</td>\n",
       "    </tr>\n",
       "  </tbody>\n",
       "</table>\n",
       "<p>100 rows × 6 columns</p>\n",
       "</div>"
      ],
      "text/plain": [
       "             timestamp     open     high      low  close   volume\n",
       "0  2023-02-16 11:15:00  97.5500  97.6800  97.0300  97.19  1609968\n",
       "1  2023-02-16 11:30:00  97.1900  97.2000  96.6900  96.81  1498373\n",
       "2  2023-02-16 11:45:00  96.8200  96.9700  96.5300  96.83  1200905\n",
       "3  2023-02-16 12:00:00  96.8300  97.0900  96.8150  96.95   714856\n",
       "4  2023-02-16 12:15:00  96.9450  96.9900  96.5300  96.88   900381\n",
       "..                 ...      ...      ...      ...    ...      ...\n",
       "95 2023-02-17 19:00:00  94.2500  94.2900  94.2500  94.29     1887\n",
       "96 2023-02-17 19:15:00  94.2900  94.3200  94.2700  94.27     3252\n",
       "97 2023-02-17 19:30:00  94.2600  94.3100  94.2300  94.26     5439\n",
       "98 2023-02-17 19:45:00  94.3200  94.3200  94.2300  94.26     1592\n",
       "99 2023-02-17 20:00:00  94.2900  94.2900  94.2500  94.27    10570\n",
       "\n",
       "[100 rows x 6 columns]"
      ]
     },
     "execution_count": 4,
     "metadata": {},
     "output_type": "execute_result"
    }
   ],
   "source": [
    "script_data = ScriptData()\n",
    "script_data.fetch_intraday_data('GOOGL')\n",
    "script_data.convert_intraday_data('GOOGL')\n",
    "script_data['GOOGL']"
   ]
  },
  {
   "cell_type": "code",
   "execution_count": 5,
   "metadata": {},
   "outputs": [
    {
     "data": {
      "text/html": [
       "<div>\n",
       "<style scoped>\n",
       "    .dataframe tbody tr th:only-of-type {\n",
       "        vertical-align: middle;\n",
       "    }\n",
       "\n",
       "    .dataframe tbody tr th {\n",
       "        vertical-align: top;\n",
       "    }\n",
       "\n",
       "    .dataframe thead th {\n",
       "        text-align: right;\n",
       "    }\n",
       "</style>\n",
       "<table border=\"1\" class=\"dataframe\">\n",
       "  <thead>\n",
       "    <tr style=\"text-align: right;\">\n",
       "      <th></th>\n",
       "      <th>timestamp</th>\n",
       "      <th>open</th>\n",
       "      <th>high</th>\n",
       "      <th>low</th>\n",
       "      <th>close</th>\n",
       "      <th>volume</th>\n",
       "    </tr>\n",
       "  </thead>\n",
       "  <tbody>\n",
       "    <tr>\n",
       "      <th>0</th>\n",
       "      <td>2023-02-16 11:15:00</td>\n",
       "      <td>155.1600</td>\n",
       "      <td>155.4600</td>\n",
       "      <td>154.8889</td>\n",
       "      <td>155.0800</td>\n",
       "      <td>2176839</td>\n",
       "    </tr>\n",
       "    <tr>\n",
       "      <th>1</th>\n",
       "      <td>2023-02-16 11:30:00</td>\n",
       "      <td>155.0803</td>\n",
       "      <td>155.3999</td>\n",
       "      <td>154.9200</td>\n",
       "      <td>155.2499</td>\n",
       "      <td>1484408</td>\n",
       "    </tr>\n",
       "    <tr>\n",
       "      <th>2</th>\n",
       "      <td>2023-02-16 11:45:00</td>\n",
       "      <td>155.2500</td>\n",
       "      <td>155.4450</td>\n",
       "      <td>155.0501</td>\n",
       "      <td>155.2850</td>\n",
       "      <td>1220633</td>\n",
       "    </tr>\n",
       "    <tr>\n",
       "      <th>3</th>\n",
       "      <td>2023-02-16 12:00:00</td>\n",
       "      <td>155.2800</td>\n",
       "      <td>155.5000</td>\n",
       "      <td>155.0100</td>\n",
       "      <td>155.0700</td>\n",
       "      <td>1559793</td>\n",
       "    </tr>\n",
       "    <tr>\n",
       "      <th>4</th>\n",
       "      <td>2023-02-16 12:15:00</td>\n",
       "      <td>155.0650</td>\n",
       "      <td>155.5000</td>\n",
       "      <td>155.0200</td>\n",
       "      <td>155.4301</td>\n",
       "      <td>1148890</td>\n",
       "    </tr>\n",
       "    <tr>\n",
       "      <th>...</th>\n",
       "      <td>...</td>\n",
       "      <td>...</td>\n",
       "      <td>...</td>\n",
       "      <td>...</td>\n",
       "      <td>...</td>\n",
       "      <td>...</td>\n",
       "    </tr>\n",
       "    <tr>\n",
       "      <th>95</th>\n",
       "      <td>2023-02-17 19:00:00</td>\n",
       "      <td>152.6200</td>\n",
       "      <td>152.6300</td>\n",
       "      <td>152.5600</td>\n",
       "      <td>152.6200</td>\n",
       "      <td>5858</td>\n",
       "    </tr>\n",
       "    <tr>\n",
       "      <th>96</th>\n",
       "      <td>2023-02-17 19:15:00</td>\n",
       "      <td>152.6200</td>\n",
       "      <td>152.6300</td>\n",
       "      <td>152.5500</td>\n",
       "      <td>152.5500</td>\n",
       "      <td>4504</td>\n",
       "    </tr>\n",
       "    <tr>\n",
       "      <th>97</th>\n",
       "      <td>2023-02-17 19:30:00</td>\n",
       "      <td>152.5500</td>\n",
       "      <td>152.5700</td>\n",
       "      <td>152.5500</td>\n",
       "      <td>152.5700</td>\n",
       "      <td>2655</td>\n",
       "    </tr>\n",
       "    <tr>\n",
       "      <th>98</th>\n",
       "      <td>2023-02-17 19:45:00</td>\n",
       "      <td>152.5600</td>\n",
       "      <td>152.6000</td>\n",
       "      <td>152.5500</td>\n",
       "      <td>152.5600</td>\n",
       "      <td>5131</td>\n",
       "    </tr>\n",
       "    <tr>\n",
       "      <th>99</th>\n",
       "      <td>2023-02-17 20:00:00</td>\n",
       "      <td>152.5600</td>\n",
       "      <td>152.6400</td>\n",
       "      <td>152.5500</td>\n",
       "      <td>152.6400</td>\n",
       "      <td>8075</td>\n",
       "    </tr>\n",
       "  </tbody>\n",
       "</table>\n",
       "<p>100 rows × 6 columns</p>\n",
       "</div>"
      ],
      "text/plain": [
       "             timestamp      open      high       low     close   volume\n",
       "0  2023-02-16 11:15:00  155.1600  155.4600  154.8889  155.0800  2176839\n",
       "1  2023-02-16 11:30:00  155.0803  155.3999  154.9200  155.2499  1484408\n",
       "2  2023-02-16 11:45:00  155.2500  155.4450  155.0501  155.2850  1220633\n",
       "3  2023-02-16 12:00:00  155.2800  155.5000  155.0100  155.0700  1559793\n",
       "4  2023-02-16 12:15:00  155.0650  155.5000  155.0200  155.4301  1148890\n",
       "..                 ...       ...       ...       ...       ...      ...\n",
       "95 2023-02-17 19:00:00  152.6200  152.6300  152.5600  152.6200     5858\n",
       "96 2023-02-17 19:15:00  152.6200  152.6300  152.5500  152.5500     4504\n",
       "97 2023-02-17 19:30:00  152.5500  152.5700  152.5500  152.5700     2655\n",
       "98 2023-02-17 19:45:00  152.5600  152.6000  152.5500  152.5600     5131\n",
       "99 2023-02-17 20:00:00  152.5600  152.6400  152.5500  152.6400     8075\n",
       "\n",
       "[100 rows x 6 columns]"
      ]
     },
     "execution_count": 5,
     "metadata": {},
     "output_type": "execute_result"
    }
   ],
   "source": [
    "script_data.fetch_intraday_data('AAPL')\n",
    "script_data.convert_intraday_data('AAPL')\n",
    "script_data['AAPL']"
   ]
  },
  {
   "cell_type": "code",
   "execution_count": 6,
   "metadata": {},
   "outputs": [
    {
     "data": {
      "text/plain": [
       "True"
      ]
     },
     "execution_count": 6,
     "metadata": {},
     "output_type": "execute_result"
    }
   ],
   "source": [
    "'GOOGL' in script_data"
   ]
  },
  {
   "cell_type": "code",
   "execution_count": 7,
   "metadata": {},
   "outputs": [
    {
     "data": {
      "text/plain": [
       "True"
      ]
     },
     "execution_count": 7,
     "metadata": {},
     "output_type": "execute_result"
    }
   ],
   "source": [
    "'AAPL' in script_data"
   ]
  },
  {
   "cell_type": "code",
   "execution_count": 8,
   "metadata": {},
   "outputs": [
    {
     "data": {
      "text/plain": [
       "False"
      ]
     },
     "execution_count": 8,
     "metadata": {},
     "output_type": "execute_result"
    }
   ],
   "source": [
    "'NVDA' in script_data"
   ]
  },
  {
   "cell_type": "code",
   "execution_count": 9,
   "metadata": {},
   "outputs": [
    {
     "data": {
      "text/html": [
       "<div>\n",
       "<style scoped>\n",
       "    .dataframe tbody tr th:only-of-type {\n",
       "        vertical-align: middle;\n",
       "    }\n",
       "\n",
       "    .dataframe tbody tr th {\n",
       "        vertical-align: top;\n",
       "    }\n",
       "\n",
       "    .dataframe thead th {\n",
       "        text-align: right;\n",
       "    }\n",
       "</style>\n",
       "<table border=\"1\" class=\"dataframe\">\n",
       "  <thead>\n",
       "    <tr style=\"text-align: right;\">\n",
       "      <th></th>\n",
       "      <th>timestamp</th>\n",
       "      <th>indicator</th>\n",
       "    </tr>\n",
       "  </thead>\n",
       "  <tbody>\n",
       "    <tr>\n",
       "      <th>0</th>\n",
       "      <td>2023-02-16 11:15:00</td>\n",
       "      <td>NaN</td>\n",
       "    </tr>\n",
       "    <tr>\n",
       "      <th>1</th>\n",
       "      <td>2023-02-16 11:30:00</td>\n",
       "      <td>NaN</td>\n",
       "    </tr>\n",
       "    <tr>\n",
       "      <th>2</th>\n",
       "      <td>2023-02-16 11:45:00</td>\n",
       "      <td>NaN</td>\n",
       "    </tr>\n",
       "    <tr>\n",
       "      <th>3</th>\n",
       "      <td>2023-02-16 12:00:00</td>\n",
       "      <td>NaN</td>\n",
       "    </tr>\n",
       "    <tr>\n",
       "      <th>4</th>\n",
       "      <td>2023-02-16 12:15:00</td>\n",
       "      <td>96.932</td>\n",
       "    </tr>\n",
       "    <tr>\n",
       "      <th>...</th>\n",
       "      <td>...</td>\n",
       "      <td>...</td>\n",
       "    </tr>\n",
       "    <tr>\n",
       "      <th>95</th>\n",
       "      <td>2023-02-17 19:00:00</td>\n",
       "      <td>94.202</td>\n",
       "    </tr>\n",
       "    <tr>\n",
       "      <th>96</th>\n",
       "      <td>2023-02-17 19:15:00</td>\n",
       "      <td>94.216</td>\n",
       "    </tr>\n",
       "    <tr>\n",
       "      <th>97</th>\n",
       "      <td>2023-02-17 19:30:00</td>\n",
       "      <td>94.240</td>\n",
       "    </tr>\n",
       "    <tr>\n",
       "      <th>98</th>\n",
       "      <td>2023-02-17 19:45:00</td>\n",
       "      <td>94.266</td>\n",
       "    </tr>\n",
       "    <tr>\n",
       "      <th>99</th>\n",
       "      <td>2023-02-17 20:00:00</td>\n",
       "      <td>94.270</td>\n",
       "    </tr>\n",
       "  </tbody>\n",
       "</table>\n",
       "<p>100 rows × 2 columns</p>\n",
       "</div>"
      ],
      "text/plain": [
       "             timestamp  indicator\n",
       "0  2023-02-16 11:15:00        NaN\n",
       "1  2023-02-16 11:30:00        NaN\n",
       "2  2023-02-16 11:45:00        NaN\n",
       "3  2023-02-16 12:00:00        NaN\n",
       "4  2023-02-16 12:15:00     96.932\n",
       "..                 ...        ...\n",
       "95 2023-02-17 19:00:00     94.202\n",
       "96 2023-02-17 19:15:00     94.216\n",
       "97 2023-02-17 19:30:00     94.240\n",
       "98 2023-02-17 19:45:00     94.266\n",
       "99 2023-02-17 20:00:00     94.270\n",
       "\n",
       "[100 rows x 2 columns]"
      ]
     },
     "execution_count": 9,
     "metadata": {},
     "output_type": "execute_result"
    }
   ],
   "source": [
    "indicator1(script_data['GOOGL'], timeperoid=5)"
   ]
  },
  {
   "cell_type": "code",
   "execution_count": 10,
   "metadata": {},
   "outputs": [
    {
     "data": {
      "text/html": [
       "<div>\n",
       "<style scoped>\n",
       "    .dataframe tbody tr th:only-of-type {\n",
       "        vertical-align: middle;\n",
       "    }\n",
       "\n",
       "    .dataframe tbody tr th {\n",
       "        vertical-align: top;\n",
       "    }\n",
       "\n",
       "    .dataframe thead th {\n",
       "        text-align: right;\n",
       "    }\n",
       "</style>\n",
       "<table border=\"1\" class=\"dataframe\">\n",
       "  <thead>\n",
       "    <tr style=\"text-align: right;\">\n",
       "      <th></th>\n",
       "      <th>timestamp</th>\n",
       "      <th>indicator</th>\n",
       "    </tr>\n",
       "  </thead>\n",
       "  <tbody>\n",
       "    <tr>\n",
       "      <th>0</th>\n",
       "      <td>2023-02-16 11:15:00</td>\n",
       "      <td>NaN</td>\n",
       "    </tr>\n",
       "    <tr>\n",
       "      <th>1</th>\n",
       "      <td>2023-02-16 11:30:00</td>\n",
       "      <td>NaN</td>\n",
       "    </tr>\n",
       "    <tr>\n",
       "      <th>2</th>\n",
       "      <td>2023-02-16 11:45:00</td>\n",
       "      <td>NaN</td>\n",
       "    </tr>\n",
       "    <tr>\n",
       "      <th>3</th>\n",
       "      <td>2023-02-16 12:00:00</td>\n",
       "      <td>NaN</td>\n",
       "    </tr>\n",
       "    <tr>\n",
       "      <th>4</th>\n",
       "      <td>2023-02-16 12:15:00</td>\n",
       "      <td>155.223</td>\n",
       "    </tr>\n",
       "    <tr>\n",
       "      <th>...</th>\n",
       "      <td>...</td>\n",
       "      <td>...</td>\n",
       "    </tr>\n",
       "    <tr>\n",
       "      <th>95</th>\n",
       "      <td>2023-02-17 19:00:00</td>\n",
       "      <td>152.574</td>\n",
       "    </tr>\n",
       "    <tr>\n",
       "      <th>96</th>\n",
       "      <td>2023-02-17 19:15:00</td>\n",
       "      <td>152.584</td>\n",
       "    </tr>\n",
       "    <tr>\n",
       "      <th>97</th>\n",
       "      <td>2023-02-17 19:30:00</td>\n",
       "      <td>152.598</td>\n",
       "    </tr>\n",
       "    <tr>\n",
       "      <th>98</th>\n",
       "      <td>2023-02-17 19:45:00</td>\n",
       "      <td>152.582</td>\n",
       "    </tr>\n",
       "    <tr>\n",
       "      <th>99</th>\n",
       "      <td>2023-02-17 20:00:00</td>\n",
       "      <td>152.588</td>\n",
       "    </tr>\n",
       "  </tbody>\n",
       "</table>\n",
       "<p>100 rows × 2 columns</p>\n",
       "</div>"
      ],
      "text/plain": [
       "             timestamp  indicator\n",
       "0  2023-02-16 11:15:00        NaN\n",
       "1  2023-02-16 11:30:00        NaN\n",
       "2  2023-02-16 11:45:00        NaN\n",
       "3  2023-02-16 12:00:00        NaN\n",
       "4  2023-02-16 12:15:00    155.223\n",
       "..                 ...        ...\n",
       "95 2023-02-17 19:00:00    152.574\n",
       "96 2023-02-17 19:15:00    152.584\n",
       "97 2023-02-17 19:30:00    152.598\n",
       "98 2023-02-17 19:45:00    152.582\n",
       "99 2023-02-17 20:00:00    152.588\n",
       "\n",
       "[100 rows x 2 columns]"
      ]
     },
     "execution_count": 10,
     "metadata": {},
     "output_type": "execute_result"
    }
   ],
   "source": [
    "indicator1(script_data['AAPL'], timeperoid=5)"
   ]
  },
  {
   "cell_type": "code",
   "execution_count": 11,
   "metadata": {},
   "outputs": [],
   "source": [
    "class Strategy(ScriptData):\n",
    "    \"\"\" \n",
    "    class implments methods to get script data and \n",
    "    get signal data i.e.'BUY' and 'SELL' signal from scipt data.\n",
    "    \"\"\"\n",
    "\n",
    "    def __init__(self, script):\n",
    "        super().__init__()\n",
    "        self.script = script\n",
    "\n",
    "    def get_script_data(self):\n",
    "        \"\"\"\n",
    "        Fetche the intrady data for a script\n",
    "\n",
    "        Returns: None\n",
    "        \"\"\"\n",
    "\n",
    "        self.fetch_intraday_data(self.script)\n",
    "        self.convert_intraday_data(self.script)\n",
    "\n",
    "    def get_signals(self):\n",
    "        \"\"\"\n",
    "        Prcoess data to find 'BUY' and 'SELL' signal.\n",
    "        \n",
    "        Returns: Dataframe with columns 'timestamp' and 'singnal'.\n",
    "        \"\"\"\n",
    "\n",
    "        df = self.data[self.script].loc[:,['timestamp', 'close']]\n",
    "        df['indicator_data'] = indicator1(self.data[self.script])['indicator']\n",
    "        df.dropna(inplace=True)\n",
    "        df.reset_index(drop=True, inplace=True)\n",
    "        close_data = df['close'].values\n",
    "        indicator_data = df['indicator_data'].values\n",
    "\n",
    "        cut_data =  np.diff(np.sign(indicator_data - close_data))\n",
    "        cut_indices = np.argwhere(cut_data).flatten()\n",
    "        \n",
    "        df = df.loc[cut_indices,:]\n",
    "        signal = np.where(cut_data[np.where(cut_data != 0)]<0, 'BUY', 'SELL')\n",
    "        df['signal'] = signal\n",
    "        df.drop(['close', 'indicator_data'], axis=1, inplace=True)\n",
    "        df.reset_index(drop=True, inplace=True)\n",
    "        return df"
   ]
  },
  {
   "cell_type": "code",
   "execution_count": 12,
   "metadata": {},
   "outputs": [],
   "source": [
    "strategy = Strategy('NVDA')"
   ]
  },
  {
   "cell_type": "code",
   "execution_count": 13,
   "metadata": {},
   "outputs": [],
   "source": [
    "strategy.get_script_data()"
   ]
  },
  {
   "cell_type": "code",
   "execution_count": 14,
   "metadata": {},
   "outputs": [
    {
     "data": {
      "text/html": [
       "<div>\n",
       "<style scoped>\n",
       "    .dataframe tbody tr th:only-of-type {\n",
       "        vertical-align: middle;\n",
       "    }\n",
       "\n",
       "    .dataframe tbody tr th {\n",
       "        vertical-align: top;\n",
       "    }\n",
       "\n",
       "    .dataframe thead th {\n",
       "        text-align: right;\n",
       "    }\n",
       "</style>\n",
       "<table border=\"1\" class=\"dataframe\">\n",
       "  <thead>\n",
       "    <tr style=\"text-align: right;\">\n",
       "      <th></th>\n",
       "      <th>timestamp</th>\n",
       "      <th>signal</th>\n",
       "    </tr>\n",
       "  </thead>\n",
       "  <tbody>\n",
       "    <tr>\n",
       "      <th>0</th>\n",
       "      <td>2023-02-16 13:00:00</td>\n",
       "      <td>SELL</td>\n",
       "    </tr>\n",
       "    <tr>\n",
       "      <th>1</th>\n",
       "      <td>2023-02-16 13:30:00</td>\n",
       "      <td>BUY</td>\n",
       "    </tr>\n",
       "    <tr>\n",
       "      <th>2</th>\n",
       "      <td>2023-02-16 14:15:00</td>\n",
       "      <td>SELL</td>\n",
       "    </tr>\n",
       "    <tr>\n",
       "      <th>3</th>\n",
       "      <td>2023-02-16 19:30:00</td>\n",
       "      <td>BUY</td>\n",
       "    </tr>\n",
       "    <tr>\n",
       "      <th>4</th>\n",
       "      <td>2023-02-16 20:00:00</td>\n",
       "      <td>SELL</td>\n",
       "    </tr>\n",
       "    <tr>\n",
       "      <th>5</th>\n",
       "      <td>2023-02-17 04:15:00</td>\n",
       "      <td>BUY</td>\n",
       "    </tr>\n",
       "    <tr>\n",
       "      <th>6</th>\n",
       "      <td>2023-02-17 04:30:00</td>\n",
       "      <td>SELL</td>\n",
       "    </tr>\n",
       "    <tr>\n",
       "      <th>7</th>\n",
       "      <td>2023-02-17 06:15:00</td>\n",
       "      <td>BUY</td>\n",
       "    </tr>\n",
       "    <tr>\n",
       "      <th>8</th>\n",
       "      <td>2023-02-17 07:15:00</td>\n",
       "      <td>SELL</td>\n",
       "    </tr>\n",
       "    <tr>\n",
       "      <th>9</th>\n",
       "      <td>2023-02-17 07:30:00</td>\n",
       "      <td>BUY</td>\n",
       "    </tr>\n",
       "    <tr>\n",
       "      <th>10</th>\n",
       "      <td>2023-02-17 08:30:00</td>\n",
       "      <td>SELL</td>\n",
       "    </tr>\n",
       "    <tr>\n",
       "      <th>11</th>\n",
       "      <td>2023-02-17 08:45:00</td>\n",
       "      <td>BUY</td>\n",
       "    </tr>\n",
       "    <tr>\n",
       "      <th>12</th>\n",
       "      <td>2023-02-17 09:15:00</td>\n",
       "      <td>SELL</td>\n",
       "    </tr>\n",
       "    <tr>\n",
       "      <th>13</th>\n",
       "      <td>2023-02-17 12:00:00</td>\n",
       "      <td>BUY</td>\n",
       "    </tr>\n",
       "    <tr>\n",
       "      <th>14</th>\n",
       "      <td>2023-02-17 12:15:00</td>\n",
       "      <td>SELL</td>\n",
       "    </tr>\n",
       "    <tr>\n",
       "      <th>15</th>\n",
       "      <td>2023-02-17 13:00:00</td>\n",
       "      <td>BUY</td>\n",
       "    </tr>\n",
       "    <tr>\n",
       "      <th>16</th>\n",
       "      <td>2023-02-17 13:15:00</td>\n",
       "      <td>SELL</td>\n",
       "    </tr>\n",
       "    <tr>\n",
       "      <th>17</th>\n",
       "      <td>2023-02-17 13:30:00</td>\n",
       "      <td>BUY</td>\n",
       "    </tr>\n",
       "    <tr>\n",
       "      <th>18</th>\n",
       "      <td>2023-02-17 15:15:00</td>\n",
       "      <td>SELL</td>\n",
       "    </tr>\n",
       "    <tr>\n",
       "      <th>19</th>\n",
       "      <td>2023-02-17 16:45:00</td>\n",
       "      <td>BUY</td>\n",
       "    </tr>\n",
       "    <tr>\n",
       "      <th>20</th>\n",
       "      <td>2023-02-17 17:00:00</td>\n",
       "      <td>SELL</td>\n",
       "    </tr>\n",
       "    <tr>\n",
       "      <th>21</th>\n",
       "      <td>2023-02-17 17:45:00</td>\n",
       "      <td>BUY</td>\n",
       "    </tr>\n",
       "    <tr>\n",
       "      <th>22</th>\n",
       "      <td>2023-02-17 19:15:00</td>\n",
       "      <td>SELL</td>\n",
       "    </tr>\n",
       "    <tr>\n",
       "      <th>23</th>\n",
       "      <td>2023-02-17 19:45:00</td>\n",
       "      <td>BUY</td>\n",
       "    </tr>\n",
       "  </tbody>\n",
       "</table>\n",
       "</div>"
      ],
      "text/plain": [
       "             timestamp signal\n",
       "0  2023-02-16 13:00:00   SELL\n",
       "1  2023-02-16 13:30:00    BUY\n",
       "2  2023-02-16 14:15:00   SELL\n",
       "3  2023-02-16 19:30:00    BUY\n",
       "4  2023-02-16 20:00:00   SELL\n",
       "5  2023-02-17 04:15:00    BUY\n",
       "6  2023-02-17 04:30:00   SELL\n",
       "7  2023-02-17 06:15:00    BUY\n",
       "8  2023-02-17 07:15:00   SELL\n",
       "9  2023-02-17 07:30:00    BUY\n",
       "10 2023-02-17 08:30:00   SELL\n",
       "11 2023-02-17 08:45:00    BUY\n",
       "12 2023-02-17 09:15:00   SELL\n",
       "13 2023-02-17 12:00:00    BUY\n",
       "14 2023-02-17 12:15:00   SELL\n",
       "15 2023-02-17 13:00:00    BUY\n",
       "16 2023-02-17 13:15:00   SELL\n",
       "17 2023-02-17 13:30:00    BUY\n",
       "18 2023-02-17 15:15:00   SELL\n",
       "19 2023-02-17 16:45:00    BUY\n",
       "20 2023-02-17 17:00:00   SELL\n",
       "21 2023-02-17 17:45:00    BUY\n",
       "22 2023-02-17 19:15:00   SELL\n",
       "23 2023-02-17 19:45:00    BUY"
      ]
     },
     "execution_count": 14,
     "metadata": {},
     "output_type": "execute_result"
    }
   ],
   "source": [
    "strategy.get_signals()"
   ]
  },
  {
   "cell_type": "code",
   "execution_count": 15,
   "metadata": {},
   "outputs": [
    {
     "data": {
      "application/vnd.plotly.v1+json": {
       "config": {
        "plotlyServerURL": "https://plot.ly"
       },
       "data": [
        {
         "close": [
          97.19,
          96.81,
          96.83,
          96.95,
          96.88,
          96.6514,
          96.99,
          96.59,
          96.6699,
          96.4,
          96.9396,
          96.83,
          96.82,
          96.8542,
          96.925,
          96.7728,
          96.35,
          95.77,
          95.53,
          95.53,
          95.53,
          95.15,
          95.3319,
          95.23,
          95.29,
          95.15,
          95.2612,
          95.13,
          95.16,
          94.88,
          94.91,
          94.86,
          94.9,
          94.97,
          94.98,
          94.9701,
          94.54,
          94.6,
          94.68,
          94.64,
          94.6,
          94.48,
          94.5,
          94.45,
          94.56,
          94.64,
          94.53,
          94.56,
          94.74,
          94.8,
          94.9,
          94.9,
          94.8,
          94.88,
          95,
          95.12,
          95.13,
          94.82,
          94.1601,
          94.05,
          94.045,
          94.035,
          93.9865,
          93.89,
          93.76,
          93.365,
          93.77,
          93.76,
          93.79,
          93.67,
          93.69,
          93.605,
          93.78,
          93.52,
          93.73,
          93.65,
          93.63,
          93.88,
          93.864,
          94.245,
          94.2,
          94.04,
          94.225,
          94.35,
          94.29,
          94.21,
          94.21,
          94.1901,
          94.17,
          94.16,
          94.15,
          94.2,
          94.14,
          94.13,
          94.25,
          94.29,
          94.27,
          94.26,
          94.26,
          94.27
         ],
         "high": [
          "97.6800",
          "97.2000",
          "96.9700",
          "97.0900",
          "96.9900",
          "96.9000",
          "97.0500",
          "97.0600",
          "96.8200",
          "96.7600",
          "96.9800",
          "96.9600",
          "96.8900",
          "96.8800",
          "97.0600",
          "96.9450",
          "96.9000",
          "96.3600",
          "95.8293",
          "95.7950",
          "95.6600",
          "95.5700",
          "95.5100",
          "95.4100",
          "95.3100",
          "95.2700",
          "95.3300",
          "95.2400",
          "95.2000",
          "95.1000",
          "94.9400",
          "94.9800",
          "94.9800",
          "95.0000",
          "95.0000",
          "95.0400",
          "94.7900",
          "94.6700",
          "94.6900",
          "94.6400",
          "94.6400",
          "94.5900",
          "94.5000",
          "94.5100",
          "94.5600",
          "94.6400",
          "94.6500",
          "94.5600",
          "94.7700",
          "94.8300",
          "94.9000",
          "94.9700",
          "95.2720",
          "94.9800",
          "95.0800",
          "95.2200",
          "95.2000",
          "95.5700",
          "95.5599",
          "94.2200",
          "94.2900",
          "94.4000",
          "94.3400",
          "94.1399",
          "94.0400",
          "93.7900",
          "93.7700",
          "93.8300",
          "94.0000",
          "93.8400",
          "93.7900",
          "93.7300",
          "93.9583",
          "93.8400",
          "93.7900",
          "93.8400",
          "93.8800",
          "93.9600",
          "94.0100",
          "94.3300",
          "94.3500",
          "94.2800",
          "94.2850",
          "94.5800",
          "94.3500",
          "94.3100",
          "94.3500",
          "94.2200",
          "94.3500",
          "94.1800",
          "94.1800",
          "94.3500",
          "94.2200",
          "94.2000",
          "94.2800",
          "94.2900",
          "94.3200",
          "94.3100",
          "94.3200",
          "94.2900"
         ],
         "low": [
          "97.0300",
          "96.6900",
          "96.5300",
          "96.8150",
          "96.5300",
          "96.2600",
          "96.6350",
          "96.5000",
          "96.5600",
          "96.4000",
          "96.3600",
          "96.7600",
          "96.6350",
          "96.5785",
          "96.8293",
          "96.6800",
          "96.2000",
          "95.7600",
          "95.3000",
          "95.4200",
          "95.3502",
          "95.1400",
          "95.1500",
          "95.2100",
          "95.2100",
          "95.1201",
          "95.1500",
          "95.1200",
          "95.0100",
          "94.8800",
          "94.8800",
          "94.8300",
          "94.8800",
          "94.9300",
          "94.8100",
          "94.8100",
          "94.5400",
          "94.5200",
          "94.6000",
          "94.5500",
          "94.5200",
          "94.4500",
          "94.4900",
          "94.4500",
          "94.4000",
          "94.5200",
          "94.5200",
          "94.5400",
          "94.5500",
          "94.7400",
          "94.7700",
          "94.9000",
          "94.5885",
          "94.7100",
          "94.8500",
          "94.9600",
          "95.0684",
          "94.7100",
          "93.9500",
          "93.8500",
          "93.8200",
          "93.9600",
          "93.9600",
          "93.8500",
          "93.7400",
          "93.2750",
          "93.2100",
          "93.5700",
          "93.7100",
          "93.4800",
          "93.6000",
          "93.5100",
          "93.5800",
          "93.4600",
          "93.4500",
          "93.5700",
          "93.5800",
          "93.5900",
          "93.8500",
          "93.8100",
          "94.0835",
          "94.0000",
          "93.9950",
          "94.0600",
          "94.2000",
          "94.1400",
          "94.1600",
          "94.1901",
          "94.1700",
          "94.1500",
          "94.1500",
          "94.1401",
          "94.1400",
          "94.1101",
          "94.1700",
          "94.2500",
          "94.2700",
          "94.2300",
          "94.2300",
          "94.2500"
         ],
         "open": [
          "97.5500",
          "97.1900",
          "96.8200",
          "96.8300",
          "96.9450",
          "96.8950",
          "96.6500",
          "96.9900",
          "96.6000",
          "96.6650",
          "96.4200",
          "96.9400",
          "96.8300",
          "96.8250",
          "96.8400",
          "96.9300",
          "96.7700",
          "96.3600",
          "95.7600",
          "95.5350",
          "95.5100",
          "95.5300",
          "95.1500",
          "95.3700",
          "95.2100",
          "95.2700",
          "95.2000",
          "95.2400",
          "95.1900",
          "95.0200",
          "94.8800",
          "94.9100",
          "94.9200",
          "94.9300",
          "94.9900",
          "94.8600",
          "94.7700",
          "94.5500",
          "94.6900",
          "94.5900",
          "94.6400",
          "94.5900",
          "94.4900",
          "94.4900",
          "94.4600",
          "94.5200",
          "94.6500",
          "94.5500",
          "94.5500",
          "94.7600",
          "94.8000",
          "94.9500",
          "94.7001",
          "94.8700",
          "94.8600",
          "95.0500",
          "95.1600",
          "95.1300",
          "94.8500",
          "94.1800",
          "94.0600",
          "94.0500",
          "94.0300",
          "93.9700",
          "93.8800",
          "93.7585",
          "93.3600",
          "93.7685",
          "93.7650",
          "93.8000",
          "93.6600",
          "93.6800",
          "93.6100",
          "93.7800",
          "93.5100",
          "93.7345",
          "93.6650",
          "93.6300",
          "93.8800",
          "93.8700",
          "94.2500",
          "94.1900",
          "94.0350",
          "94.2250",
          "94.3400",
          "94.3000",
          "94.2696",
          "94.2100",
          "94.2199",
          "94.1800",
          "94.1600",
          "94.1700",
          "94.1700",
          "94.1300",
          "94.2000",
          "94.2500",
          "94.2900",
          "94.2600",
          "94.3200",
          "94.2900"
         ],
         "type": "candlestick",
         "x": [
          "2023-02-16T11:15:00",
          "2023-02-16T11:30:00",
          "2023-02-16T11:45:00",
          "2023-02-16T12:00:00",
          "2023-02-16T12:15:00",
          "2023-02-16T12:30:00",
          "2023-02-16T12:45:00",
          "2023-02-16T13:00:00",
          "2023-02-16T13:15:00",
          "2023-02-16T13:30:00",
          "2023-02-16T13:45:00",
          "2023-02-16T14:00:00",
          "2023-02-16T14:15:00",
          "2023-02-16T14:30:00",
          "2023-02-16T14:45:00",
          "2023-02-16T15:00:00",
          "2023-02-16T15:15:00",
          "2023-02-16T15:30:00",
          "2023-02-16T15:45:00",
          "2023-02-16T16:00:00",
          "2023-02-16T16:15:00",
          "2023-02-16T16:30:00",
          "2023-02-16T16:45:00",
          "2023-02-16T17:00:00",
          "2023-02-16T17:15:00",
          "2023-02-16T17:30:00",
          "2023-02-16T17:45:00",
          "2023-02-16T18:00:00",
          "2023-02-16T18:15:00",
          "2023-02-16T18:30:00",
          "2023-02-16T18:45:00",
          "2023-02-16T19:00:00",
          "2023-02-16T19:15:00",
          "2023-02-16T19:30:00",
          "2023-02-16T19:45:00",
          "2023-02-16T20:00:00",
          "2023-02-17T04:15:00",
          "2023-02-17T04:30:00",
          "2023-02-17T04:45:00",
          "2023-02-17T05:00:00",
          "2023-02-17T05:15:00",
          "2023-02-17T05:30:00",
          "2023-02-17T05:45:00",
          "2023-02-17T06:00:00",
          "2023-02-17T06:15:00",
          "2023-02-17T06:30:00",
          "2023-02-17T06:45:00",
          "2023-02-17T07:00:00",
          "2023-02-17T07:15:00",
          "2023-02-17T07:30:00",
          "2023-02-17T07:45:00",
          "2023-02-17T08:00:00",
          "2023-02-17T08:15:00",
          "2023-02-17T08:30:00",
          "2023-02-17T08:45:00",
          "2023-02-17T09:00:00",
          "2023-02-17T09:15:00",
          "2023-02-17T09:30:00",
          "2023-02-17T09:45:00",
          "2023-02-17T10:00:00",
          "2023-02-17T10:15:00",
          "2023-02-17T10:30:00",
          "2023-02-17T10:45:00",
          "2023-02-17T11:00:00",
          "2023-02-17T11:15:00",
          "2023-02-17T11:30:00",
          "2023-02-17T11:45:00",
          "2023-02-17T12:00:00",
          "2023-02-17T12:15:00",
          "2023-02-17T12:30:00",
          "2023-02-17T12:45:00",
          "2023-02-17T13:00:00",
          "2023-02-17T13:15:00",
          "2023-02-17T13:30:00",
          "2023-02-17T13:45:00",
          "2023-02-17T14:00:00",
          "2023-02-17T14:15:00",
          "2023-02-17T14:30:00",
          "2023-02-17T14:45:00",
          "2023-02-17T15:00:00",
          "2023-02-17T15:15:00",
          "2023-02-17T15:30:00",
          "2023-02-17T15:45:00",
          "2023-02-17T16:00:00",
          "2023-02-17T16:15:00",
          "2023-02-17T16:30:00",
          "2023-02-17T16:45:00",
          "2023-02-17T17:00:00",
          "2023-02-17T17:15:00",
          "2023-02-17T17:30:00",
          "2023-02-17T17:45:00",
          "2023-02-17T18:00:00",
          "2023-02-17T18:15:00",
          "2023-02-17T18:30:00",
          "2023-02-17T18:45:00",
          "2023-02-17T19:00:00",
          "2023-02-17T19:15:00",
          "2023-02-17T19:30:00",
          "2023-02-17T19:45:00",
          "2023-02-17T20:00:00"
         ]
        }
       ],
       "layout": {
        "template": {
         "data": {
          "bar": [
           {
            "error_x": {
             "color": "#2a3f5f"
            },
            "error_y": {
             "color": "#2a3f5f"
            },
            "marker": {
             "line": {
              "color": "#E5ECF6",
              "width": 0.5
             },
             "pattern": {
              "fillmode": "overlay",
              "size": 10,
              "solidity": 0.2
             }
            },
            "type": "bar"
           }
          ],
          "barpolar": [
           {
            "marker": {
             "line": {
              "color": "#E5ECF6",
              "width": 0.5
             },
             "pattern": {
              "fillmode": "overlay",
              "size": 10,
              "solidity": 0.2
             }
            },
            "type": "barpolar"
           }
          ],
          "carpet": [
           {
            "aaxis": {
             "endlinecolor": "#2a3f5f",
             "gridcolor": "white",
             "linecolor": "white",
             "minorgridcolor": "white",
             "startlinecolor": "#2a3f5f"
            },
            "baxis": {
             "endlinecolor": "#2a3f5f",
             "gridcolor": "white",
             "linecolor": "white",
             "minorgridcolor": "white",
             "startlinecolor": "#2a3f5f"
            },
            "type": "carpet"
           }
          ],
          "choropleth": [
           {
            "colorbar": {
             "outlinewidth": 0,
             "ticks": ""
            },
            "type": "choropleth"
           }
          ],
          "contour": [
           {
            "colorbar": {
             "outlinewidth": 0,
             "ticks": ""
            },
            "colorscale": [
             [
              0,
              "#0d0887"
             ],
             [
              0.1111111111111111,
              "#46039f"
             ],
             [
              0.2222222222222222,
              "#7201a8"
             ],
             [
              0.3333333333333333,
              "#9c179e"
             ],
             [
              0.4444444444444444,
              "#bd3786"
             ],
             [
              0.5555555555555556,
              "#d8576b"
             ],
             [
              0.6666666666666666,
              "#ed7953"
             ],
             [
              0.7777777777777778,
              "#fb9f3a"
             ],
             [
              0.8888888888888888,
              "#fdca26"
             ],
             [
              1,
              "#f0f921"
             ]
            ],
            "type": "contour"
           }
          ],
          "contourcarpet": [
           {
            "colorbar": {
             "outlinewidth": 0,
             "ticks": ""
            },
            "type": "contourcarpet"
           }
          ],
          "heatmap": [
           {
            "colorbar": {
             "outlinewidth": 0,
             "ticks": ""
            },
            "colorscale": [
             [
              0,
              "#0d0887"
             ],
             [
              0.1111111111111111,
              "#46039f"
             ],
             [
              0.2222222222222222,
              "#7201a8"
             ],
             [
              0.3333333333333333,
              "#9c179e"
             ],
             [
              0.4444444444444444,
              "#bd3786"
             ],
             [
              0.5555555555555556,
              "#d8576b"
             ],
             [
              0.6666666666666666,
              "#ed7953"
             ],
             [
              0.7777777777777778,
              "#fb9f3a"
             ],
             [
              0.8888888888888888,
              "#fdca26"
             ],
             [
              1,
              "#f0f921"
             ]
            ],
            "type": "heatmap"
           }
          ],
          "heatmapgl": [
           {
            "colorbar": {
             "outlinewidth": 0,
             "ticks": ""
            },
            "colorscale": [
             [
              0,
              "#0d0887"
             ],
             [
              0.1111111111111111,
              "#46039f"
             ],
             [
              0.2222222222222222,
              "#7201a8"
             ],
             [
              0.3333333333333333,
              "#9c179e"
             ],
             [
              0.4444444444444444,
              "#bd3786"
             ],
             [
              0.5555555555555556,
              "#d8576b"
             ],
             [
              0.6666666666666666,
              "#ed7953"
             ],
             [
              0.7777777777777778,
              "#fb9f3a"
             ],
             [
              0.8888888888888888,
              "#fdca26"
             ],
             [
              1,
              "#f0f921"
             ]
            ],
            "type": "heatmapgl"
           }
          ],
          "histogram": [
           {
            "marker": {
             "pattern": {
              "fillmode": "overlay",
              "size": 10,
              "solidity": 0.2
             }
            },
            "type": "histogram"
           }
          ],
          "histogram2d": [
           {
            "colorbar": {
             "outlinewidth": 0,
             "ticks": ""
            },
            "colorscale": [
             [
              0,
              "#0d0887"
             ],
             [
              0.1111111111111111,
              "#46039f"
             ],
             [
              0.2222222222222222,
              "#7201a8"
             ],
             [
              0.3333333333333333,
              "#9c179e"
             ],
             [
              0.4444444444444444,
              "#bd3786"
             ],
             [
              0.5555555555555556,
              "#d8576b"
             ],
             [
              0.6666666666666666,
              "#ed7953"
             ],
             [
              0.7777777777777778,
              "#fb9f3a"
             ],
             [
              0.8888888888888888,
              "#fdca26"
             ],
             [
              1,
              "#f0f921"
             ]
            ],
            "type": "histogram2d"
           }
          ],
          "histogram2dcontour": [
           {
            "colorbar": {
             "outlinewidth": 0,
             "ticks": ""
            },
            "colorscale": [
             [
              0,
              "#0d0887"
             ],
             [
              0.1111111111111111,
              "#46039f"
             ],
             [
              0.2222222222222222,
              "#7201a8"
             ],
             [
              0.3333333333333333,
              "#9c179e"
             ],
             [
              0.4444444444444444,
              "#bd3786"
             ],
             [
              0.5555555555555556,
              "#d8576b"
             ],
             [
              0.6666666666666666,
              "#ed7953"
             ],
             [
              0.7777777777777778,
              "#fb9f3a"
             ],
             [
              0.8888888888888888,
              "#fdca26"
             ],
             [
              1,
              "#f0f921"
             ]
            ],
            "type": "histogram2dcontour"
           }
          ],
          "mesh3d": [
           {
            "colorbar": {
             "outlinewidth": 0,
             "ticks": ""
            },
            "type": "mesh3d"
           }
          ],
          "parcoords": [
           {
            "line": {
             "colorbar": {
              "outlinewidth": 0,
              "ticks": ""
             }
            },
            "type": "parcoords"
           }
          ],
          "pie": [
           {
            "automargin": true,
            "type": "pie"
           }
          ],
          "scatter": [
           {
            "fillpattern": {
             "fillmode": "overlay",
             "size": 10,
             "solidity": 0.2
            },
            "type": "scatter"
           }
          ],
          "scatter3d": [
           {
            "line": {
             "colorbar": {
              "outlinewidth": 0,
              "ticks": ""
             }
            },
            "marker": {
             "colorbar": {
              "outlinewidth": 0,
              "ticks": ""
             }
            },
            "type": "scatter3d"
           }
          ],
          "scattercarpet": [
           {
            "marker": {
             "colorbar": {
              "outlinewidth": 0,
              "ticks": ""
             }
            },
            "type": "scattercarpet"
           }
          ],
          "scattergeo": [
           {
            "marker": {
             "colorbar": {
              "outlinewidth": 0,
              "ticks": ""
             }
            },
            "type": "scattergeo"
           }
          ],
          "scattergl": [
           {
            "marker": {
             "colorbar": {
              "outlinewidth": 0,
              "ticks": ""
             }
            },
            "type": "scattergl"
           }
          ],
          "scattermapbox": [
           {
            "marker": {
             "colorbar": {
              "outlinewidth": 0,
              "ticks": ""
             }
            },
            "type": "scattermapbox"
           }
          ],
          "scatterpolar": [
           {
            "marker": {
             "colorbar": {
              "outlinewidth": 0,
              "ticks": ""
             }
            },
            "type": "scatterpolar"
           }
          ],
          "scatterpolargl": [
           {
            "marker": {
             "colorbar": {
              "outlinewidth": 0,
              "ticks": ""
             }
            },
            "type": "scatterpolargl"
           }
          ],
          "scatterternary": [
           {
            "marker": {
             "colorbar": {
              "outlinewidth": 0,
              "ticks": ""
             }
            },
            "type": "scatterternary"
           }
          ],
          "surface": [
           {
            "colorbar": {
             "outlinewidth": 0,
             "ticks": ""
            },
            "colorscale": [
             [
              0,
              "#0d0887"
             ],
             [
              0.1111111111111111,
              "#46039f"
             ],
             [
              0.2222222222222222,
              "#7201a8"
             ],
             [
              0.3333333333333333,
              "#9c179e"
             ],
             [
              0.4444444444444444,
              "#bd3786"
             ],
             [
              0.5555555555555556,
              "#d8576b"
             ],
             [
              0.6666666666666666,
              "#ed7953"
             ],
             [
              0.7777777777777778,
              "#fb9f3a"
             ],
             [
              0.8888888888888888,
              "#fdca26"
             ],
             [
              1,
              "#f0f921"
             ]
            ],
            "type": "surface"
           }
          ],
          "table": [
           {
            "cells": {
             "fill": {
              "color": "#EBF0F8"
             },
             "line": {
              "color": "white"
             }
            },
            "header": {
             "fill": {
              "color": "#C8D4E3"
             },
             "line": {
              "color": "white"
             }
            },
            "type": "table"
           }
          ]
         },
         "layout": {
          "annotationdefaults": {
           "arrowcolor": "#2a3f5f",
           "arrowhead": 0,
           "arrowwidth": 1
          },
          "autotypenumbers": "strict",
          "coloraxis": {
           "colorbar": {
            "outlinewidth": 0,
            "ticks": ""
           }
          },
          "colorscale": {
           "diverging": [
            [
             0,
             "#8e0152"
            ],
            [
             0.1,
             "#c51b7d"
            ],
            [
             0.2,
             "#de77ae"
            ],
            [
             0.3,
             "#f1b6da"
            ],
            [
             0.4,
             "#fde0ef"
            ],
            [
             0.5,
             "#f7f7f7"
            ],
            [
             0.6,
             "#e6f5d0"
            ],
            [
             0.7,
             "#b8e186"
            ],
            [
             0.8,
             "#7fbc41"
            ],
            [
             0.9,
             "#4d9221"
            ],
            [
             1,
             "#276419"
            ]
           ],
           "sequential": [
            [
             0,
             "#0d0887"
            ],
            [
             0.1111111111111111,
             "#46039f"
            ],
            [
             0.2222222222222222,
             "#7201a8"
            ],
            [
             0.3333333333333333,
             "#9c179e"
            ],
            [
             0.4444444444444444,
             "#bd3786"
            ],
            [
             0.5555555555555556,
             "#d8576b"
            ],
            [
             0.6666666666666666,
             "#ed7953"
            ],
            [
             0.7777777777777778,
             "#fb9f3a"
            ],
            [
             0.8888888888888888,
             "#fdca26"
            ],
            [
             1,
             "#f0f921"
            ]
           ],
           "sequentialminus": [
            [
             0,
             "#0d0887"
            ],
            [
             0.1111111111111111,
             "#46039f"
            ],
            [
             0.2222222222222222,
             "#7201a8"
            ],
            [
             0.3333333333333333,
             "#9c179e"
            ],
            [
             0.4444444444444444,
             "#bd3786"
            ],
            [
             0.5555555555555556,
             "#d8576b"
            ],
            [
             0.6666666666666666,
             "#ed7953"
            ],
            [
             0.7777777777777778,
             "#fb9f3a"
            ],
            [
             0.8888888888888888,
             "#fdca26"
            ],
            [
             1,
             "#f0f921"
            ]
           ]
          },
          "colorway": [
           "#636efa",
           "#EF553B",
           "#00cc96",
           "#ab63fa",
           "#FFA15A",
           "#19d3f3",
           "#FF6692",
           "#B6E880",
           "#FF97FF",
           "#FECB52"
          ],
          "font": {
           "color": "#2a3f5f"
          },
          "geo": {
           "bgcolor": "white",
           "lakecolor": "white",
           "landcolor": "#E5ECF6",
           "showlakes": true,
           "showland": true,
           "subunitcolor": "white"
          },
          "hoverlabel": {
           "align": "left"
          },
          "hovermode": "closest",
          "mapbox": {
           "style": "light"
          },
          "paper_bgcolor": "white",
          "plot_bgcolor": "#E5ECF6",
          "polar": {
           "angularaxis": {
            "gridcolor": "white",
            "linecolor": "white",
            "ticks": ""
           },
           "bgcolor": "#E5ECF6",
           "radialaxis": {
            "gridcolor": "white",
            "linecolor": "white",
            "ticks": ""
           }
          },
          "scene": {
           "xaxis": {
            "backgroundcolor": "#E5ECF6",
            "gridcolor": "white",
            "gridwidth": 2,
            "linecolor": "white",
            "showbackground": true,
            "ticks": "",
            "zerolinecolor": "white"
           },
           "yaxis": {
            "backgroundcolor": "#E5ECF6",
            "gridcolor": "white",
            "gridwidth": 2,
            "linecolor": "white",
            "showbackground": true,
            "ticks": "",
            "zerolinecolor": "white"
           },
           "zaxis": {
            "backgroundcolor": "#E5ECF6",
            "gridcolor": "white",
            "gridwidth": 2,
            "linecolor": "white",
            "showbackground": true,
            "ticks": "",
            "zerolinecolor": "white"
           }
          },
          "shapedefaults": {
           "line": {
            "color": "#2a3f5f"
           }
          },
          "ternary": {
           "aaxis": {
            "gridcolor": "white",
            "linecolor": "white",
            "ticks": ""
           },
           "baxis": {
            "gridcolor": "white",
            "linecolor": "white",
            "ticks": ""
           },
           "bgcolor": "#E5ECF6",
           "caxis": {
            "gridcolor": "white",
            "linecolor": "white",
            "ticks": ""
           }
          },
          "title": {
           "x": 0.05
          },
          "xaxis": {
           "automargin": true,
           "gridcolor": "white",
           "linecolor": "white",
           "ticks": "",
           "title": {
            "standoff": 15
           },
           "zerolinecolor": "white",
           "zerolinewidth": 2
          },
          "yaxis": {
           "automargin": true,
           "gridcolor": "white",
           "linecolor": "white",
           "ticks": "",
           "title": {
            "standoff": 15
           },
           "zerolinecolor": "white",
           "zerolinewidth": 2
          }
         }
        }
       }
      }
     },
     "metadata": {},
     "output_type": "display_data"
    }
   ],
   "source": [
    "# plot camdle stick charts using plotly.py\n",
    "import plotly.graph_objects as go\n",
    "\n",
    "# store the GOOGL script data in df\n",
    "df = script_data['GOOGL']\n",
    "\n",
    "\n",
    "fig = go.Figure(data=[go.Candlestick(x=df['timestamp'],\n",
    "                open=df['open'],\n",
    "                high=df['high'],\n",
    "                low=df['low'],\n",
    "                close=df['close'])])\n",
    "\n",
    "fig.show()"
   ]
  }
 ],
 "metadata": {
  "kernelspec": {
   "display_name": "algobulls",
   "language": "python",
   "name": "python3"
  },
  "language_info": {
   "codemirror_mode": {
    "name": "ipython",
    "version": 3
   },
   "file_extension": ".py",
   "mimetype": "text/x-python",
   "name": "python",
   "nbconvert_exporter": "python",
   "pygments_lexer": "ipython3",
   "version": "3.10.9"
  },
  "orig_nbformat": 4,
  "vscode": {
   "interpreter": {
    "hash": "4607890cd1a2017caadf93a16883628a1fa4779e5c06a527ba16544da2733536"
   }
  }
 },
 "nbformat": 4,
 "nbformat_minor": 2
}
